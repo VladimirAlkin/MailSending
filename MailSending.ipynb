{
  "nbformat": 4,
  "nbformat_minor": 0,
  "metadata": {
    "colab": {
      "name": "MailSending",
      "provenance": [],
      "collapsed_sections": [],
      "authorship_tag": "ABX9TyMIGFw0voq342mSNSEib98z",
      "include_colab_link": true
    },
    "kernelspec": {
      "name": "python3",
      "display_name": "Python 3"
    },
    "language_info": {
      "name": "python"
    }
  },
  "cells": [
    {
      "cell_type": "markdown",
      "metadata": {
        "id": "view-in-github",
        "colab_type": "text"
      },
      "source": [
        "<a href=\"https://colab.research.google.com/github/VladimirAlkin/MailSending/blob/main/MailSending.ipynb\" target=\"_parent\"><img src=\"https://colab.research.google.com/assets/colab-badge.svg\" alt=\"Open In Colab\"/></a>"
      ]
    },
    {
      "cell_type": "code",
      "metadata": {
        "id": "f8q4dMc2wLUf"
      },
      "source": [
        "# Email sending prog\n",
        "import smtplib\n",
        "import ssl\n",
        "from email.mime.text import MIMEText as MT\n",
        "from email.mime.multipart import MIMEMultipart as MM "
      ],
      "execution_count": 77,
      "outputs": []
    },
    {
      "cell_type": "code",
      "metadata": {
        "colab": {
          "base_uri": "https://localhost:8080/"
        },
        "id": "pJ5M8CRcypW4",
        "outputId": "533715f3-659c-43f4-cc37-9683c9d2d775"
      },
      "source": [
        "# Store the email adresses for the receiver and the sender and store the senders password\n",
        "reciever = input('Reciever email:  ')\n",
        "sender = input('Sender email:  ')\n",
        "senders_password = input(\"Sender's email: \")"
      ],
      "execution_count": 78,
      "outputs": [
        {
          "output_type": "stream",
          "text": [
            "Reciever email:  aishkawolf@gmail.com\n",
            "Sender email:  kevinthefox1995@gmail.com\n",
            "Sender's email: 950301Gtggb!\n"
          ],
          "name": "stdout"
        }
      ]
    },
    {
      "cell_type": "code",
      "metadata": {
        "colab": {
          "base_uri": "https://localhost:8080/"
        },
        "id": "MAxr91xxz5ue",
        "outputId": "3210a994-fd43-4ca1-ab01-c1380e1e7a00"
      },
      "source": [
        "# Create a MIMEMultipart object\n",
        "msg = MM()\n",
        "subject = input('input email subject: ')\n",
        "msg['Subject'] = subject\n",
        "msg['From'] = reciever\n",
        "msg['To'] = sender"
      ],
      "execution_count": 79,
      "outputs": [
        {
          "output_type": "stream",
          "text": [
            "input email subject: RABOTA ZAEBALA\n"
          ],
          "name": "stdout"
        }
      ]
    },
    {
      "cell_type": "code",
      "metadata": {
        "id": "hlMc8KZ_NdBa"
      },
      "source": [
        "HTML = \"\"\"\n",
        "<html>\n",
        "  <body>  \n",
        "    <h1>LOKTAR A ANAL!</h1>\n",
        "    <img src=\"https://cs10.pikabu.ru/post_img/big/2019/10/04/4/157016829313763586.png\" alt=\"ebany bezdelnik\" width=\"500\" height=\"600\">\n",
        "    <h2>\n",
        "    <p>Go to RABOTA<br>\n",
        "    Your future in Ogrrimar: <a href = \"https://sun9-69.userapi.com/impg/kBeMPri1JwlEqyIf4GqEC7lciCYx0R-DqmehMQ/yadRp3B6H1g.jpg?size=607x794&quality=96&sign=6fca02fa3f8707c002dcc3db75e26e66&type=album\"> Join US</a>\n",
        "    </p>\n",
        "    </h2>\n",
        "  </body>\n",
        "</html>\n",
        "\"\"\""
      ],
      "execution_count": 80,
      "outputs": []
    },
    {
      "cell_type": "code",
      "metadata": {
        "id": "k9tVRVUn0qzZ"
      },
      "source": [
        "# Create a html MIMEText  object\n",
        "MTObj = MT(HTML, \"html\")"
      ],
      "execution_count": 81,
      "outputs": []
    },
    {
      "cell_type": "code",
      "metadata": {
        "id": "wbTdcAVS3TZj"
      },
      "source": [
        "# Attach the MIMEtext object into the message container\n",
        "msg.attach(MTObj)"
      ],
      "execution_count": 82,
      "outputs": []
    },
    {
      "cell_type": "code",
      "metadata": {
        "colab": {
          "base_uri": "https://localhost:8080/"
        },
        "id": "hQOh-zOG3jUE",
        "outputId": "c9694283-9c49-4d50-d19e-e49050569b51"
      },
      "source": [
        "# Create a \"secure\" connection with teh server and send email\n",
        "# Create the secure socket layer (SSL) context obj\n",
        "SSL_context = ssl.create_default_context()\n",
        "# Create the secute simple mail transfer protcol (SMTP) connection\n",
        "server = smtplib.SMTP_SSL(host = 'smtp.gmail.com', port = 465, context = SSL_context)\n",
        "# Login\n",
        "server.login(sender,senders_password)\n",
        "# Send the email\n",
        "server.sendmail(sender, reciever, msg.as_string())"
      ],
      "execution_count": 84,
      "outputs": [
        {
          "output_type": "execute_result",
          "data": {
            "text/plain": [
              "{}"
            ]
          },
          "metadata": {
            "tags": []
          },
          "execution_count": 84
        }
      ]
    }
  ]
}